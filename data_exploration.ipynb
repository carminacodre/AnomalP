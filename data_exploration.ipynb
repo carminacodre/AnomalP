{
 "cells": [
  {
   "cell_type": "code",
   "execution_count": 1,
   "metadata": {},
   "outputs": [],
   "source": [
    "import numpy as np\n",
    "import os\n",
    "import glob\n",
    "import ntpath\n",
    "from shutil import copyfile"
   ]
  },
  {
   "cell_type": "code",
   "execution_count": 2,
   "metadata": {},
   "outputs": [],
   "source": [
    "dataset_path_raw = \"Dataset/MoDEL_SA/\"\n",
    "#dataset_path = \"Dataset/families\"\n",
    "dataset_path = \"Dataset/families_reduced\""
   ]
  },
  {
   "cell_type": "code",
   "execution_count": 3,
   "metadata": {},
   "outputs": [
    {
     "data": {
      "text/plain": [
       "'\\nfamilies = {\"fam_1\": \"3.20.20.80\",\\n            \"fam_2\": \"1.10.490.10\",\\n            \"fam_3\": \"1.10.238.10\",\\n            \"fam_4\": \"2.40.50.140\",\\n            \"fam_5\": \"2.60.120.260\",\\n            \"fam_6\": \"6 3.30.30.10\",\\n            \"fam_7\": \"7 2.60.40.10\",\\n            \"fam_8\": \"8 3.40.50.150\",\\n            \"fam_9\": \"9 2.160.20.10\"}\\n\\nproteins = {\"fam_1\": [\"1B1Y\", \"1CNV\", \"1EDG\", \"1ITX\", \"1JFX\", \"1KFW\", \"1NAR\", \"1VFF\", \"2EBN\"],\\n            \"fam_2\": [\"1HLB\", \"1ITH\", \"1MBA\", \"2HBG\", \"2LHB\", \"1ASH\", \"1DLW\", \"1ECA\"],\\n            \"fam_3\": [\"1OMR\", \"1SRA\", \"1UHN\", \"2SAS\", \"1CB1\", \"1IQ3\"],\\n            \"fam_4\": [\"1SLJ\", \"1YVC\", \"1AH9\", \"1EOV\", \"1JT8\", \"1KRS\"],\\n            \"fam_5\": [\"1NKG\", \"1PMJe\", \"1ULO\", \"1GUI\", \"1I5P\", \"1K45\"],\\n            \"fam_6\": [\"1PE4f\", \"1SEG\", \"1BCG\", \"1GPT\", \"1I2U\", \"1JXC\"],\\n            \"fam_7\": [\"1R6V\", \"2FCB\", \"1JBJ\", \"1JE6\", \"1NCT\", \"1OLL\"],\\n            \"fam_8\": [\"1Y8C\", \"1AF7\", \"1DUS\", \"1F3L\", \"1Y8C\", \"1YUB\"],\\n            \"fam_9\": [\"1QCX\", \"1RU4\", \"1VBL\", \"1BHE\", \"1EE6\"]}\\n'"
      ]
     },
     "execution_count": 3,
     "metadata": {},
     "output_type": "execute_result"
    }
   ],
   "source": [
    "\"\"\"\n",
    "families = {\"fam_1\": \"3.20.20.80\",\n",
    "            \"fam_2\": \"1.10.490.10\",\n",
    "            \"fam_3\": \"1.10.238.10\",\n",
    "            \"fam_4\": \"2.40.50.140\",\n",
    "            \"fam_5\": \"2.60.120.260\",\n",
    "            \"fam_6\": \"6 3.30.30.10\",\n",
    "            \"fam_7\": \"7 2.60.40.10\",\n",
    "            \"fam_8\": \"8 3.40.50.150\",\n",
    "            \"fam_9\": \"9 2.160.20.10\"}\n",
    "\n",
    "proteins = {\"fam_1\": [\"1B1Y\", \"1CNV\", \"1EDG\", \"1ITX\", \"1JFX\", \"1KFW\", \"1NAR\", \"1VFF\", \"2EBN\"],\n",
    "            \"fam_2\": [\"1HLB\", \"1ITH\", \"1MBA\", \"2HBG\", \"2LHB\", \"1ASH\", \"1DLW\", \"1ECA\"],\n",
    "            \"fam_3\": [\"1OMR\", \"1SRA\", \"1UHN\", \"2SAS\", \"1CB1\", \"1IQ3\"],\n",
    "            \"fam_4\": [\"1SLJ\", \"1YVC\", \"1AH9\", \"1EOV\", \"1JT8\", \"1KRS\"],\n",
    "            \"fam_5\": [\"1NKG\", \"1PMJe\", \"1ULO\", \"1GUI\", \"1I5P\", \"1K45\"],\n",
    "            \"fam_6\": [\"1PE4f\", \"1SEG\", \"1BCG\", \"1GPT\", \"1I2U\", \"1JXC\"],\n",
    "            \"fam_7\": [\"1R6V\", \"2FCB\", \"1JBJ\", \"1JE6\", \"1NCT\", \"1OLL\"],\n",
    "            \"fam_8\": [\"1Y8C\", \"1AF7\", \"1DUS\", \"1F3L\", \"1Y8C\", \"1YUB\"],\n",
    "            \"fam_9\": [\"1QCX\", \"1RU4\", \"1VBL\", \"1BHE\", \"1EE6\"]}\n",
    "\"\"\""
   ]
  },
  {
   "cell_type": "code",
   "execution_count": 4,
   "metadata": {},
   "outputs": [],
   "source": [
    "families = {\"fam_1\": \"1.10.490.10\",\n",
    "            \"fam_2\": \"1.10.760.10\",\n",
    "            \"fam_3\": \"2.10.25.10\"}\n",
    "proteins = { \"fam_1\": [\"1ASH\", \"1DLW\", \"1ECA\"],\n",
    "             \"fam_2\": [\"1C52\", \"1CCR\"],\n",
    "             \"fam_3\": [\"1APQ\", \"1COU\"]}"
   ]
  },
  {
   "cell_type": "code",
   "execution_count": 9,
   "metadata": {},
   "outputs": [],
   "source": [
    "for fam in proteins.keys():\n",
    "    os.mkdir(os.path.join(dataset_path,fam))"
   ]
  },
  {
   "cell_type": "code",
   "execution_count": 7,
   "metadata": {},
   "outputs": [],
   "source": [
    "def get_family(protein):\n",
    "    for fam in proteins.keys():\n",
    "        if protein in proteins[fam]:\n",
    "            return fam\n",
    "    return None"
   ]
  },
  {
   "cell_type": "code",
   "execution_count": 10,
   "metadata": {},
   "outputs": [],
   "source": [
    "for protein_file in glob.glob(os.path.join(dataset_path_raw,\"*\")):\n",
    "    file_name = ntpath.basename(protein_file)\n",
    "    name = file_name.replace(\".lf_str.out\",\"\")\n",
    "    family = get_family(name)\n",
    "    if family:\n",
    "        copyfile(protein_file, os.path.join(dataset_path, family, file_name))"
   ]
  }
 ],
 "metadata": {
  "kernelspec": {
   "display_name": "dizy",
   "language": "python",
   "name": "dizy"
  },
  "language_info": {
   "codemirror_mode": {
    "name": "ipython",
    "version": 2
   },
   "file_extension": ".py",
   "mimetype": "text/x-python",
   "name": "python",
   "nbconvert_exporter": "python",
   "pygments_lexer": "ipython2",
   "version": "2.7.15"
  }
 },
 "nbformat": 4,
 "nbformat_minor": 2
}
