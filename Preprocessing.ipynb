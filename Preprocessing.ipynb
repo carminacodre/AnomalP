{
 "cells": [
  {
   "cell_type": "markdown",
   "metadata": {},
   "source": [
    "# Data preprocessing utilities"
   ]
  },
  {
   "cell_type": "code",
   "execution_count": 1,
   "metadata": {},
   "outputs": [
    {
     "name": "stderr",
     "output_type": "stream",
     "text": [
      "Using TensorFlow backend.\n"
     ]
    }
   ],
   "source": [
    "import glob\n",
    "import os\n",
    "from collections import Counter\n",
    "import string\n",
    "import os\n",
    "import random\n",
    "import numpy as np\n",
    "from sklearn.model_selection import train_test_split\n",
    "from keras.utils.np_utils import to_categorical\n",
    "from tempfile import TemporaryFile"
   ]
  },
  {
   "cell_type": "markdown",
   "metadata": {},
   "source": [
    "### Load dataset"
   ]
  },
  {
   "cell_type": "code",
   "execution_count": 11,
   "metadata": {},
   "outputs": [],
   "source": [
    "families = [\"fam_1\", \"fam_2\", \"fam_3\", \"fam_4\", \"fam_5\", \"fam_6\", \"fam_7\", \"fam_8\", \"fam_9\"]\n",
    "ds_path = \"../dataset/families\"\n",
    "\n",
    "prepare_dirs = True\n",
    "\n",
    "family_paths = {}\n",
    "for f in families:\n",
    "    family_paths[f]= os.path.join(ds_path, f)"
   ]
  },
  {
   "cell_type": "code",
   "execution_count": 12,
   "metadata": {},
   "outputs": [],
   "source": [
    "# prepare dirs\n",
    "if prepare_dirs:\n",
    "    if not os.path.exists(\"models\"):\n",
    "        os.mkdir(\"models\")\n",
    "    if not os.path.exists(\"models_proteins\"):\n",
    "        os.mkdir(\"models_proteins\")\n",
    "    if not os.path.exists(\"logs\"):\n",
    "        os.mkdir(\"logs\")\n",
    "    if not os.path.exists(\"data_serialized\"):\n",
    "        os.mkdir(\"data_serialized\")\n",
    "    if not os.path.exists(\"data_serialized_protein\"):\n",
    "        os.mkdir(\"data_serialized_protein\")\n",
    "    for f in families:\n",
    "        if not os.path.exists(os.path.join(\"models\", f)):\n",
    "            os.mkdir(os.path.join(\"models\", f))\n",
    "\n",
    "        if not os.path.exists(os.path.join(\"models_proteins\", f)):\n",
    "            os.mkdir(os.path.join(\"models_proteins\", f))\n",
    "\n",
    "        if not os.path.exists(os.path.join(\"logs\", f)):\n",
    "            os.mkdir(os.path.join(\"logs\", f))\n",
    "\n",
    "        if not os.path.exists(os.path.join(\"data_serialized\", f)):\n",
    "            os.mkdir(os.path.join(\"data_serialized\", f))\n",
    "\n",
    "        if not os.path.exists(os.path.join(\"data_serialized_protein\", f)):\n",
    "            os.mkdir(os.path.join(\"data_serialized_protein\", f))\n",
    "        if not os.path.exists(os.path.join(\"data_serialized_protein\", f, 'train')):\n",
    "            os.mkdir(os.path.join(\"data_serialized_protein\", f, 'train'))\n",
    "        if not os.path.exists(os.path.join(\"data_serialized_protein\", f, 'val')):\n",
    "            os.mkdir(os.path.join(\"data_serialized_protein\", f, 'val'))\n",
    "        if not os.path.exists(os.path.join(\"data_serialized_protein\", f, 'test')):\n",
    "            os.mkdir(os.path.join(\"data_serialized_protein\", f, 'test'))"
   ]
  },
  {
   "cell_type": "code",
   "execution_count": 14,
   "metadata": {},
   "outputs": [],
   "source": [
    "letters_di=dict(zip(string.ascii_letters,[ord(c)%32 -1 for c in string.ascii_letters]))"
   ]
  },
  {
   "cell_type": "code",
   "execution_count": 16,
   "metadata": {},
   "outputs": [
    {
     "data": {
      "text/plain": [
       "{'A': 0,\n",
       " 'B': 1,\n",
       " 'C': 2,\n",
       " 'D': 3,\n",
       " 'E': 4,\n",
       " 'F': 5,\n",
       " 'G': 6,\n",
       " 'H': 7,\n",
       " 'I': 8,\n",
       " 'J': 9,\n",
       " 'K': 10,\n",
       " 'L': 11,\n",
       " 'M': 12,\n",
       " 'N': 13,\n",
       " 'O': 14,\n",
       " 'P': 15,\n",
       " 'Q': 16,\n",
       " 'R': 17,\n",
       " 'S': 18,\n",
       " 'T': 19,\n",
       " 'U': 20,\n",
       " 'V': 21,\n",
       " 'W': 22,\n",
       " 'X': 23,\n",
       " 'Y': 24,\n",
       " 'Z': 25,\n",
       " 'a': 0,\n",
       " 'b': 1,\n",
       " 'c': 2,\n",
       " 'd': 3,\n",
       " 'e': 4,\n",
       " 'f': 5,\n",
       " 'g': 6,\n",
       " 'h': 7,\n",
       " 'i': 8,\n",
       " 'j': 9,\n",
       " 'k': 10,\n",
       " 'l': 11,\n",
       " 'm': 12,\n",
       " 'n': 13,\n",
       " 'o': 14,\n",
       " 'p': 15,\n",
       " 'q': 16,\n",
       " 'r': 17,\n",
       " 's': 18,\n",
       " 't': 19,\n",
       " 'u': 20,\n",
       " 'v': 21,\n",
       " 'w': 22,\n",
       " 'x': 23,\n",
       " 'y': 24,\n",
       " 'z': 25}"
      ]
     },
     "execution_count": 16,
     "metadata": {},
     "output_type": "execute_result"
    }
   ],
   "source": [
    "letters_di"
   ]
  },
  {
   "cell_type": "code",
   "execution_count": 5,
   "metadata": {},
   "outputs": [],
   "source": [
    "angles = {'A': [122.4, 119.4,-164.2],\n",
    "          'B': [129.8, 135.6, -176.6],\n",
    "          'C': [117.1, 111.0, -142.2],\n",
    "          'D': [118.4, 126.9, -146.1],\n",
    "          'E': [116.7, 138.6, 168.7],\n",
    "          'F': [115.6, 112.9, -117.9],\n",
    "          'G': [135.3, 118.6, -148.5],\n",
    "          'H': [120.1, 114.3, -90.7],\n",
    "          'I': [133.6, 117.1, -120.8],\n",
    "          'J': [115.9, 91.4, -134.6],\n",
    "          'K': [119.7, 90.4, -105.9],\n",
    "          'L': [110.0, 90.8, -158.8],\n",
    "          'M': [110.0, 100.8, 177.0],\n",
    "          'N': [90.1, 138.2, 19.6],\n",
    "          'O': [92.4, 91.2, -127.4],\n",
    "          'P': [91.8, 96.7, -104.8],\n",
    "          'Q': [95.9, 117.7, 136.0],\n",
    "          'R': [94.5, 112.6, 115.0],\n",
    "          'S': [96.3, 94.7, 112.0],\n",
    "          'T': [93.0, 92.8, 83.1],\n",
    "          'U': [91.4, 90.7, 49.8],\n",
    "          'V': [93.3, 89.1, 68.3],\n",
    "          'W': [93.8, 105.2, 32.3],\n",
    "          'X': [111.4, 94.6, 21.8],\n",
    "          'Y': [89.0, 95.1, -54.4]\n",
    "          }"
   ]
  },
  {
   "cell_type": "code",
   "execution_count": 6,
   "metadata": {},
   "outputs": [],
   "source": [
    "def to_angles(conf):\n",
    "    return [angles[str(l)] for l in conf]"
   ]
  },
  {
   "cell_type": "code",
   "execution_count": 7,
   "metadata": {},
   "outputs": [],
   "source": [
    "def process_conf(configurations, use_angles ,categorical, padding, max_length, normalize, flatten, num_classes=25):\n",
    "    if categorical:\n",
    "        # tranforms data to one hot encodings\n",
    "        configurations = [[letters_di[l] for l in p] for p in configurations]\n",
    "        configurations = np.array([to_categorical(p, num_classes=num_classes) for p in configurations])\n",
    "    elif use_angles:\n",
    "        # use angles\n",
    "        configurations = np.array([to_angles(p) for p in configurations])\n",
    "    else:\n",
    "        configurations = np.array([[letters_di[l] for l in p] for p in configurations])\n",
    " \n",
    "    if padding:\n",
    "        # pad sequences if less than max length\n",
    "        if categorical:\n",
    "            new_families_conf = np.zeros((configurations.shape[0], max_length, num_classes))\n",
    "            for i,f in enumerate(configurations):\n",
    "                new_families_conf[i,:f.shape[0], :f.shape[1]] += f\n",
    "            configurations = new_families_conf\n",
    "        elif use_angles:\n",
    "            new_families_conf = np.zeros((configurations.shape[0], max_length, 3))\n",
    "            for i,f in enumerate(configurations):\n",
    "                new_f = np.array(f)\n",
    "                new_families_conf[i,:new_f.shape[0], :new_f.shape[1]] += new_f\n",
    "            configurations = new_families_conf\n",
    "        del new_families_conf\n",
    "    print(configurations.shape)\n",
    "    if flatten:\n",
    "        if categorical:\n",
    "            configurations = configurations.reshape(-1, num_classes * max_length)\n",
    "        elif use_angles:\n",
    "            configurations = configurations.reshape(-1, 3 * max_length)\n",
    "    if normalize:\n",
    "        if categorical:\n",
    "            configurations = configurations.astype('float32') / (letters_di['Y'] * 1.0)\n",
    "        elif use_angles:\n",
    "            configurations = configurations.astype('float32') + 180 / 360\n",
    "    print(configurations.shape)\n",
    "    return configurations"
   ]
  },
  {
   "cell_type": "code",
   "execution_count": 8,
   "metadata": {},
   "outputs": [],
   "source": [
    "def load_family(f):\n",
    "    proteins = glob.glob(os.path.join(family_paths[f], \"*.out\"))\n",
    "    print(\"Proteins for family %s\" %f)\n",
    "    for p in proteins:\n",
    "        print(p)\n",
    "    proteins_conf = []\n",
    "    for p in proteins:\n",
    "        with open(p) as in_file:\n",
    "            for line in in_file:\n",
    "                proteins_conf.append(line.strip())\n",
    "    l = [len(p) for p in proteins_conf]\n",
    "    print(Counter(l))\n",
    "    return proteins_conf"
   ]
  }
 ],
 "metadata": {
  "kernelspec": {
   "display_name": "dizy",
   "language": "python",
   "name": "dizy"
  },
  "language_info": {
   "codemirror_mode": {
    "name": "ipython",
    "version": 2
   },
   "file_extension": ".py",
   "mimetype": "text/x-python",
   "name": "python",
   "nbconvert_exporter": "python",
   "pygments_lexer": "ipython2",
   "version": "2.7.15"
  }
 },
 "nbformat": 4,
 "nbformat_minor": 2
}
